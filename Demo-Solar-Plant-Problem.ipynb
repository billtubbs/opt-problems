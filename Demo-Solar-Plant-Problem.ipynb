{
 "cells": [
  {
   "cell_type": "markdown",
   "metadata": {},
   "source": [
    "# Develop Solar Plant Optimization Problem using Excel Interface\n",
    "\n",
    "Test classes and functions from `optprob` module for comparing different optimization algorithms."
   ]
  },
  {
   "cell_type": "code",
   "execution_count": null,
   "metadata": {},
   "outputs": [],
   "source": [
    "import os\n",
    "import numpy as np\n",
    "import matplotlib.pyplot as plt\n",
    "import scipy\n",
    "import skopt\n",
    "\n",
    "import xlwings as xw\n",
    "\n",
    "from problems.optprob.problems import (\n",
    "    ConstrainedScalarOptimizationProblem,\n",
    "    solve_problem_with_optimizer, \n",
    "    solve_problem_with_optimizer_n_repeats\n",
    ")\n",
    "from problems.optprob.plot_utils import (\n",
    "    function_evaluations_plot, \n",
    "    best_guesses_plot, \n",
    "    best_guesses_plot_n_repeats\n",
    ")\n",
    "\n",
    "from excel_tools.run_excel_sheet_mac import (\n",
    "    get_var_value, \n",
    "    set_var_value, \n",
    "    evaluate_excel_sheet\n",
    ")\n",
    "\n",
    "from platform import python_version\n",
    "python_version()"
   ]
  },
  {
   "cell_type": "code",
   "execution_count": null,
   "metadata": {},
   "outputs": [],
   "source": [
    "import lpfgopt\n",
    "lpfgopt.__version__"
   ]
  },
  {
   "cell_type": "markdown",
   "metadata": {},
   "source": [
    "## Optimization Problem Definition"
   ]
  },
  {
   "cell_type": "code",
   "execution_count": null,
   "metadata": {},
   "outputs": [],
   "source": [
    "# Path to Excel file\n",
    "problems_dir = 'problems'\n",
    "problem_name = 'solar_plant_rto'\n",
    "excel_filename = 'Solar Plant Optimization of N-Pumps I-O 2025-08-29.xlsm'\n",
    "filepath = os.path.join(os.getcwd(), problems_dir, problem_name, excel_filename)\n",
    "\n",
    "# Check if file exists\n",
    "if not os.path.exists(filepath):\n",
    "    raise FileNotFoundError(f\"Excel file not found: {filepath}\")"
   ]
  },
  {
   "cell_type": "code",
   "execution_count": null,
   "metadata": {},
   "outputs": [],
   "source": [
    "# Open the workbook with xlwings\n",
    "wb = xw.Book(filepath)\n",
    "\n",
    "cell_refs = {\n",
    "    'name': ((2, 2), 'C2'),\n",
    "    'f(x)': ((6, 13), (6, 14)),\n",
    "    'x': ((5, 8), [(6, 8), (9, 8), (10, 8), (11, 8), (12, 8), (13, 8), (14, 8), (15, 8), (16, 8), (17, 8), (18, 8), (19, 8), (20, 8), (21, 8), (22, 8)]),\n",
    "    'g(x)': None,\n",
    "    'x_lb': ((5, 9), [(6, 9), (9, 9), (10, 9), (11, 9), (12, 9), (13, 9), (14, 9), (15, 9), (16, 9), (17, 9), (18, 9), (19, 9), (20, 9), (21, 9), (22, 9)]),\n",
    "    'x_ub': ((5, 10), [(6, 10), (9, 10), (10, 10), (11, 10), (12, 10), (13, 10), (14, 10), (15, 10), (16, 10), (17, 10), (18, 10), (19, 10), (20, 10), (21, 10), (22, 10)])\n",
    "}\n",
    "\n",
    "# cell_refs = {\n",
    "#     'name': ('B2', 'C2'),\n",
    "#     'f(x)': ('M6', 'N6'),\n",
    "#     'x': ('H5', [(6, 8), (9, 8), (10, 8), (11, 8), (12, 8), (13, 8), (14, 8), (15, 8), (16, 8), (17, 8), (18, 8), (19, 8), (20, 8), (21, 8), (22, 8)]),\n",
    "#     #'g(x)': None,\n",
    "#     'x_lb': ('I5', [(6, 9), (9, 9), (10, 9), (11, 9), (12, 9), (13, 9), (14, 9), (15, 9), (16, 9), (17, 9), (18, 9), (19, 9), (20, 9), (21, 9), (22, 9)]),\n",
    "#     'x_ub': ('J5', [(6, 10), (9, 10), (10, 10), (11, 10), (12, 10), (13, 10), (14, 10), (15, 10), (16, 10), (17, 10), (18, 10), (19, 10), (20, 10), (21, 10), (22, 10)])\n",
    "# }\n",
    "\n",
    "inputs = {'x': [\n",
    "    0.8,\n",
    "    0.917004705,\n",
    "    0.886780974,\n",
    "    0.853623916,\n",
    "    0.826111695,\n",
    "    0.801142972,\n",
    "    0.783225649,\n",
    "    0.760051185,\n",
    "    0.900587117,\n",
    "    0.884820289,\n",
    "    0.85561633,\n",
    "    0.827130134,\n",
    "    0.797646554,\n",
    "    0.78549898,\n",
    "    0.755400025\n",
    "]}\n",
    "\n",
    "try:\n",
    "    outputs = evaluate_excel_sheet(\n",
    "        wb, inputs, cell_refs, output_vars=['name', 'f(x)', 'x_lb', 'x_ub']\n",
    "    )\n",
    "    print(\"Test: \", outputs['name'])\n",
    "    assert outputs['name'] == 'SolarPlantRTO'\n",
    "    assert outputs['x_lb'] == [0.0, 0.1, 0.1, 0.1, 0.1, 0.1, 0.1, 0.1, 0.1, 0.1, 0.1, 0.1, 0.1, 0.1, 0.1]\n",
    "    assert outputs['x_ub'] == [1.0, 1.0, 1.0, 1.0, 1.0, 1.0, 1.0, 1.0, 1.0, 1.0, 1.0, 1.0, 1.0, 1.0, 1.0]\n",
    "    ws = wb.sheets[0]\n",
    "finally:\n",
    "    # Save and close\n",
    "    wb.save()\n",
    "    wb.close()\n",
    "    pass"
   ]
  },
  {
   "cell_type": "code",
   "execution_count": null,
   "metadata": {},
   "outputs": [],
   "source": [
    "class MSExcelOptProblem(ConstrainedScalarOptimizationProblem):\n",
    "\n",
    "    def __init__(self, filepath, cell_refs, sheet=1, global_minimum=None):\n",
    "        self.filepath = filepath\n",
    "        self.cell_refs = cell_refs\n",
    "        self.sheet = sheet\n",
    "        self._wb = None\n",
    "        name = None\n",
    "        bounds = None\n",
    "        super().__init__(bounds, name=name, global_minimum=None)\n",
    "\n",
    "    @property\n",
    "    def name(self) -> str:\n",
    "        name = get_var_value(self._ws, \"name\", self.cell_refs[\"name\"])\n",
    "        return name\n",
    "\n",
    "    @property\n",
    "    def bounds(self):\n",
    "        lower_bounds = get_var_value(self._ws, \"x_lb\", self.cell_refs[\"x_lb\"])\n",
    "        upper_bounds = get_var_value(self._ws, \"x_ub\", self.cell_refs[\"x_ub\"])\n",
    "        return np.stack([lower_bounds, upper_bounds]).T\n",
    "\n",
    "    @bounds.setter\n",
    "    def bounds(self, value: np.ndarray) -> None:\n",
    "        raise AttributeError(\n",
    "            \"Cannot set bounds using this method. Set them in the spreadsheet.\"\n",
    "        )\n",
    "\n",
    "    def __enter__(self):\n",
    "        self._wb = xw.Book(self.filepath)\n",
    "        self._ws = self._wb.sheets[self.sheet - 1]  # xlwings uses 0-based indexing\n",
    "        self._bounds = self.bounds\n",
    "        return self\n",
    "\n",
    "    def __exit__(self, exc_type, exc_value, traceback):\n",
    "        self._wb.save()\n",
    "        self._wb.close()\n",
    "\n",
    "    def cost_function_to_minimize(self, x) -> float:\n",
    "        inputs = {'x': x}\n",
    "        outputs = evaluate_excel_sheet(\n",
    "            self._wb, inputs, self.cell_refs, output_vars=['f(x)'], sheet=self.sheet\n",
    "        )\n",
    "        cost = outputs['f(x)']\n",
    "        return cost\n",
    "    \n",
    "    # TODO: Implement constraint function"
   ]
  },
  {
   "cell_type": "code",
   "execution_count": null,
   "metadata": {},
   "outputs": [],
   "source": [
    "# Test\n",
    "with MSExcelOptProblem(filepath, cell_refs) as problem:\n",
    "    print(problem.name)\n",
    "    print(problem.bounds)\n",
    "    x = [\n",
    "        0.5,\n",
    "        0.917004705,\n",
    "        0.886780974,\n",
    "        0.853623916,\n",
    "        0.826111695,\n",
    "        0.801142972,\n",
    "        0.783225649,\n",
    "        0.760051185,\n",
    "        0.900587117,\n",
    "        0.884820289,\n",
    "        0.85561633,\n",
    "        0.827130134,\n",
    "        0.797646554,\n",
    "        0.78549898,\n",
    "        0.755400025\n",
    "    ]\n",
    "    print(problem(x))\n"
   ]
  },
  {
   "cell_type": "code",
   "execution_count": null,
   "metadata": {},
   "outputs": [],
   "source": [
    "cell_refs = {\n",
    "    'name': ((2, 2), (2, 3)),\n",
    "    'f(x)': ((6, 13), (6, 14)),\n",
    "    'x': (\n",
    "        (5, 8), \n",
    "        [\n",
    "            (6, 8), (9, 8), (10, 8), (11, 8), (12, 8), (13, 8), (14, 8), (15, 8), \n",
    "            (16, 8), (17, 8), (18, 8), (19, 8), (20, 8), (21, 8), (22, 8)\n",
    "        ]\n",
    "    ),\n",
    "    'g(x)': None,\n",
    "    'x_lb': (\n",
    "        (5, 9), \n",
    "        [\n",
    "            (6, 9), (9, 9), (10, 9), (11, 9), (12, 9), (13, 9), (14, 9), (15, 9), \n",
    "            (16, 9), (17, 9), (18, 9), (19, 9), (20, 9), (21, 9), (22, 9)\n",
    "        ]\n",
    "    ),\n",
    "    'x_ub': (\n",
    "        (5, 10), \n",
    "        [\n",
    "            (6, 10), (9, 10), (10, 10), (11, 10), (12, 10), (13, 10), (14, 10), (15, 10), \n",
    "            (16, 10), (17, 10), (18, 10), (19, 10), (20, 10), (21, 10), (22, 10)\n",
    "        ]\n",
    "    )\n",
    "}\n",
    "\n",
    "class SolarPlantRTO(MSExcelOptProblem):\n",
    "\n",
    "    def __init__(self, filepath):\n",
    "        super().__init__(filepath, cell_refs)\n",
    "\n",
    "\n",
    "with SolarPlantRTO(filepath) as problem:\n",
    "    print(problem.name)\n",
    "    print(problem.bounds.shape)\n",
    "    inputs = {'x': [2.0]}\n",
    "    outputs = evaluate_excel_sheet(\n",
    "        problem._wb, inputs, problem.cell_refs, output_vars=['f(x)']\n",
    "    )\n"
   ]
  },
  {
   "cell_type": "code",
   "execution_count": null,
   "metadata": {},
   "outputs": [],
   "source": [
    "# Path to Excel file\n",
    "problems_dir = 'problems'\n",
    "problem_name = 'solar_plant_rto'\n",
    "excel_filename = 'Solar Plant Optimization of N-Pumps I-O 2025-08-29.xlsm'\n",
    "filepath = os.path.join(os.getcwd(), problems_dir, problem_name, excel_filename)\n",
    "\n",
    "with SolarPlantRTO(filepath) as problem:\n",
    "    sol = solve_problem_with_optimizer(\n",
    "        problem, \n",
    "        lpfgopt.minimize, \n",
    "        problem.bounds, \n",
    "        points=15*5, \n",
    "        maxit=2, \n",
    "        tol=0.01\n",
    "    )"
   ]
  },
  {
   "cell_type": "code",
   "execution_count": null,
   "metadata": {},
   "outputs": [],
   "source": [
    "with problem as p:\n",
    "    function_evaluations_plot(p)\n",
    "plt.tight_layout()\n",
    "plt.show()"
   ]
  },
  {
   "cell_type": "code",
   "execution_count": null,
   "metadata": {},
   "outputs": [],
   "source": [
    "with problem as p:\n",
    "    best_guesses_plot(p)\n",
    "plt.tight_layout()\n",
    "plt.show()"
   ]
  },
  {
   "cell_type": "code",
   "execution_count": null,
   "metadata": {},
   "outputs": [],
   "source": [
    "f_best, x_best = problem.best_guess\n",
    "x_best = [float(xi) for xi in x]\n",
    "f_best, x_best"
   ]
  },
  {
   "cell_type": "code",
   "execution_count": null,
   "metadata": {},
   "outputs": [],
   "source": [
    "with SolarPlantRTO(filepath) as problem:\n",
    "    sol = solve_problem_with_optimizer(\n",
    "        problem, \n",
    "        scipy.optimize.minimize, \n",
    "        x0=x_best, \n",
    "        bounds=problem.bounds, \n",
    "        tol=0.01, \n",
    "        options={'maxiter': 500}\n",
    "    )"
   ]
  },
  {
   "cell_type": "code",
   "execution_count": null,
   "metadata": {},
   "outputs": [],
   "source": [
    "with problem as p:\n",
    "    best_guesses_plot(p)\n",
    "plt.tight_layout()\n",
    "plt.show()"
   ]
  },
  {
   "cell_type": "code",
   "execution_count": null,
   "metadata": {},
   "outputs": [],
   "source": []
  },
  {
   "cell_type": "code",
   "execution_count": null,
   "metadata": {},
   "outputs": [],
   "source": [
    "STOP HERE!!!"
   ]
  },
  {
   "cell_type": "code",
   "execution_count": null,
   "metadata": {},
   "outputs": [],
   "source": [
    "fun_evals, unique_solutions, best_guesses = solve_problem_with_optimizer_n_repeats(problem, lpfgopt.minimize, 20, problem.bounds, tol=0.01)\n",
    "unique_solutions"
   ]
  },
  {
   "cell_type": "code",
   "execution_count": null,
   "metadata": {},
   "outputs": [],
   "source": [
    "ax = best_guesses_plot_n_repeats(fun_evals)\n",
    "plt.tight_layout()\n",
    "plt.show()"
   ]
  },
  {
   "cell_type": "code",
   "execution_count": null,
   "metadata": {},
   "outputs": [],
   "source": [
    "min(best_guesses)"
   ]
  },
  {
   "cell_type": "markdown",
   "metadata": {},
   "source": [
    "## Bayesian Optimization"
   ]
  },
  {
   "cell_type": "code",
   "execution_count": null,
   "metadata": {},
   "outputs": [],
   "source": [
    "# Run Bayesian optimization\n",
    "problem.reset()\n",
    "res = skopt.gp_minimize(\n",
    "    problem,            # the function to minimize\n",
    "    problem.bounds,     # the bounds on each dimension of x\n",
    "    n_calls=50,\n",
    "    noise=1e-10,\n",
    "    random_state=0,\n",
    "    n_initial_points=10,\n",
    ")\n",
    "res"
   ]
  },
  {
   "cell_type": "code",
   "execution_count": null,
   "metadata": {},
   "outputs": [],
   "source": [
    "res['x'], res['fun']"
   ]
  },
  {
   "cell_type": "code",
   "execution_count": null,
   "metadata": {},
   "outputs": [],
   "source": [
    "problem.best_guess"
   ]
  },
  {
   "cell_type": "code",
   "execution_count": null,
   "metadata": {},
   "outputs": [],
   "source": [
    "function_evaluations_plot(problem, markersize=5, linestyle='-')\n",
    "plt.tight_layout()\n",
    "plt.show()"
   ]
  },
  {
   "cell_type": "code",
   "execution_count": null,
   "metadata": {},
   "outputs": [],
   "source": [
    "fun_evals, unique_solutions, best_guesses = solve_problem_with_optimizer_n_repeats(\n",
    "    problem, skopt.gp_minimize, 10, problem.bounds, noise=1e-10, n_calls=50\n",
    ")\n",
    "unique_solutions"
   ]
  },
  {
   "cell_type": "code",
   "execution_count": null,
   "metadata": {},
   "outputs": [],
   "source": [
    "ax = best_guesses_plot_n_repeats(fun_evals)\n",
    "plt.tight_layout()\n",
    "plt.show()"
   ]
  },
  {
   "cell_type": "code",
   "execution_count": null,
   "metadata": {},
   "outputs": [],
   "source": [
    "min(best_guesses)"
   ]
  },
  {
   "cell_type": "code",
   "execution_count": null,
   "metadata": {},
   "outputs": [],
   "source": []
  },
  {
   "cell_type": "code",
   "execution_count": null,
   "metadata": {},
   "outputs": [],
   "source": []
  },
  {
   "cell_type": "code",
   "execution_count": null,
   "metadata": {},
   "outputs": [],
   "source": []
  }
 ],
 "metadata": {
  "kernelspec": {
   "display_name": ".venv (3.12.10)",
   "language": "python",
   "name": "python3"
  },
  "language_info": {
   "codemirror_mode": {
    "name": "ipython",
    "version": 3
   },
   "file_extension": ".py",
   "mimetype": "text/x-python",
   "name": "python",
   "nbconvert_exporter": "python",
   "pygments_lexer": "ipython3",
   "version": "3.12.10"
  }
 },
 "nbformat": 4,
 "nbformat_minor": 4
}
