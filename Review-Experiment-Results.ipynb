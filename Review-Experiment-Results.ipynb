{
 "cells": [
  {
   "cell_type": "markdown",
   "id": "2c055320",
   "metadata": {},
   "source": [
    "# Review Results of Experiments"
   ]
  },
  {
   "cell_type": "code",
   "execution_count": null,
   "id": "874ad6e5",
   "metadata": {},
   "outputs": [],
   "source": [
    "import os\n",
    "import numpy as np\n",
    "import pandas as pd\n",
    "import matplotlib.pyplot as plt\n",
    "\n",
    "from problems.optprob.plot_utils import best_guesses_plot, best_guesses_plot_n_repeats"
   ]
  },
  {
   "cell_type": "code",
   "execution_count": null,
   "id": "89298002",
   "metadata": {},
   "outputs": [],
   "source": [
    "results_dir = 'results'\n",
    "exp_name = 'sys_id_fopdt'\n",
    "os.listdir(os.path.join(results_dir, exp_name))"
   ]
  },
  {
   "cell_type": "markdown",
   "id": "972d6770",
   "metadata": {},
   "source": [
    "### Load Summary Stats"
   ]
  },
  {
   "cell_type": "code",
   "execution_count": null,
   "id": "048d38b7",
   "metadata": {},
   "outputs": [],
   "source": [
    "stats = pd.read_csv(os.path.join(results_dir, exp_name, \"results\", \"stats.csv\"))\n",
    "stats"
   ]
  },
  {
   "cell_type": "code",
   "execution_count": null,
   "id": "fdcf0df9",
   "metadata": {},
   "outputs": [],
   "source": [
    "f_range = (stats['f'].min(), stats['f'].max())\n",
    "n_bins = 51\n",
    "bin_width = (f_range[1] - f_range[0]) / (n_bins - 1)\n",
    "bin_centres = np.linspace(f_range[0], f_range[1], n_bins - 1)\n",
    "bin_edges = np.linspace(f_range[0] - bin_width / 2, f_range[1] + bin_width / 2, n_bins)\n",
    "stats['f'].plot.hist(\n",
    "    bins=bin_edges, \n",
    "    xlabel='f(x)', \n",
    "    grid=True, \n",
    "    title=f'Solutions Found - {exp_name}', \n",
    "    figsize=(5, 2)\n",
    ")"
   ]
  },
  {
   "cell_type": "markdown",
   "id": "1c4c23c8",
   "metadata": {},
   "source": [
    "### Plot Best Guesses by Number of Function Evaluations"
   ]
  },
  {
   "cell_type": "code",
   "execution_count": null,
   "id": "1b46b3b5",
   "metadata": {},
   "outputs": [],
   "source": [
    "filenames = sorted(\n",
    "    name for name in os.listdir(os.path.join(results_dir, exp_name, \"results\"))\n",
    "    if name.startswith('fevals_')\n",
    ")\n",
    "fun_evals = {}\n",
    "x_values = {}\n",
    "x_names = [f'x{i+1}' for i in range(5)]\n",
    "for i, filename in enumerate(filenames):\n",
    "    data = pd.read_csv(os.path.join(results_dir, exp_name, \"results\", filename), index_col=0)\n",
    "    fun_evals[i+1] = data['f']\n",
    "    x_values[i+1] = data[x_names]\n",
    "fun_evals = pd.concat(fun_evals, axis=1)\n",
    "x_values = pd.concat(x_values, axis=1)\n",
    "n_trials = fun_evals.shape[1]\n",
    "n_trials\n"
   ]
  },
  {
   "cell_type": "code",
   "execution_count": null,
   "id": "44a14b07",
   "metadata": {},
   "outputs": [],
   "source": [
    "fun_evals"
   ]
  },
  {
   "cell_type": "code",
   "execution_count": null,
   "id": "660c2116",
   "metadata": {},
   "outputs": [],
   "source": [
    "title = f'Optimizer Convergence - {exp_name} - {n_trials} Trials'\n",
    "best_guesses_plot_n_repeats(fun_evals.to_numpy().T, title=title)\n",
    "plt.tight_layout()\n",
    "plt.show()"
   ]
  },
  {
   "cell_type": "code",
   "execution_count": null,
   "id": "1e8c2c8e",
   "metadata": {},
   "outputs": [],
   "source": []
  },
  {
   "cell_type": "code",
   "execution_count": null,
   "id": "0f344502",
   "metadata": {},
   "outputs": [],
   "source": []
  },
  {
   "cell_type": "code",
   "execution_count": null,
   "id": "6fa49af2",
   "metadata": {},
   "outputs": [],
   "source": []
  }
 ],
 "metadata": {
  "kernelspec": {
   "display_name": ".venv",
   "language": "python",
   "name": "python3"
  },
  "language_info": {
   "codemirror_mode": {
    "name": "ipython",
    "version": 3
   },
   "file_extension": ".py",
   "mimetype": "text/x-python",
   "name": "python",
   "nbconvert_exporter": "python",
   "pygments_lexer": "ipython3",
   "version": "3.12.11"
  }
 },
 "nbformat": 4,
 "nbformat_minor": 5
}
