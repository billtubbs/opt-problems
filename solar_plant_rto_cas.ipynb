{
 "cells": [
  {
   "cell_type": "markdown",
   "id": "23c1734b",
   "metadata": {},
   "source": [
    "# Develop a CasADi Model of The Steady-State Solar Plant RTO Problem\n",
    "\n",
    "Replicates the calculations in the following Excel spreadsheet and uses CasADi to solve the optimization problem.\n",
    "\n",
    "- `SS Solar Plant Optimization New Thermal & Flow Model 15 DVs I-O 2025-10-12a.xlsm`"
   ]
  },
  {
   "cell_type": "code",
   "execution_count": null,
   "id": "fafbf0ce",
   "metadata": {},
   "outputs": [],
   "source": [
    "import casadi as cas\n",
    "import numpy as np\n",
    "import pandas as pd\n",
    "import matplotlib.pyplot as plt\n",
    "from tqdm import tqdm\n",
    "\n",
    "# Import functions from the solar_plant_rto module\n",
    "from problems.solar_plant_rto.solar_plant_gen_rto import (\n",
    "    calculate_pump_and_drive_efficiency,\n",
    "    calculate_pump_dp,\n",
    "    calculate_pump_fluid_power,\n",
    "    calculate_collector_flow_rate,\n",
    "    calculate_collector_oil_exit_temp,\n",
    "    solar_plant_rto_solve,\n",
    "    solar_plant_gen_rto_solve\n",
    ")"
   ]
  },
  {
   "cell_type": "markdown",
   "id": "a617b5ac",
   "metadata": {},
   "source": [
    "## Test Data"
   ]
  },
  {
   "cell_type": "code",
   "execution_count": null,
   "id": "226285fd",
   "metadata": {},
   "outputs": [],
   "source": [
    "from tests.test_solar_plant_gen_rto import test_data\n",
    "\n",
    "# This data is from the Excel spreadsheet\n",
    "test_data"
   ]
  },
  {
   "cell_type": "code",
   "execution_count": null,
   "id": "f025b250",
   "metadata": {},
   "outputs": [],
   "source": [
    "m_pumps = test_data['m_pumps']\n",
    "n_lines = test_data['n_lines']"
   ]
  },
  {
   "cell_type": "markdown",
   "id": "d12ab209",
   "metadata": {},
   "source": [
    "## Pump Characteristics"
   ]
  },
  {
   "cell_type": "code",
   "execution_count": null,
   "id": "cebc4719",
   "metadata": {},
   "outputs": [],
   "source": [
    "flow_rates = np.linspace(50, 120, 71)\n",
    "\n",
    "fig, axes = plt.subplots(3, 1, sharex=True, figsize=(7, 5.5))\n",
    "\n",
    "for pump_speed in [1500, 2000, 2500, 3000]:\n",
    "    efficiency = calculate_pump_and_drive_efficiency(\n",
    "        flow_rates, pump_speed\n",
    "    )\n",
    "    delta_p = calculate_pump_dp(\n",
    "        pump_speed, flow_rates, m_pumps\n",
    "    )\n",
    "    power = calculate_pump_fluid_power(flow_rates, delta_p)\n",
    "\n",
    "    ax = axes[0]\n",
    "    ax.plot(flow_rates, delta_p, label=pump_speed)\n",
    "    ax.set_ylabel('dP (kPa)')\n",
    "    ax.grid(True)\n",
    "    ax.legend(title=\"Speed (rpm)\")\n",
    "    ax.set_title(\"Pump Curves\")\n",
    "\n",
    "\n",
    "    ax = axes[1]\n",
    "    ax.plot(flow_rates, efficiency * 100, label=pump_speed)\n",
    "    ax.set_ylabel('Efficiency (%)')\n",
    "    ax.grid(True)\n",
    "    ax.legend(title=\"Speed (rpm)\")\n",
    "    ax.set_title(\"Efficiency Curves\")\n",
    "\n",
    "    ax = axes[2]\n",
    "    ax.plot(flow_rates, power, label=pump_speed)\n",
    "    ax.set_xlabel('Flow rate (kg/s)')\n",
    "    ax.set_ylabel('Power (kW)')\n",
    "    ax.grid(True)\n",
    "    ax.legend(title=\"Speed (rpm)\")\n",
    "    ax.set_title(\"Power Curves\")\n",
    "\n",
    "plt.tight_layout()\n",
    "plt.show()"
   ]
  },
  {
   "cell_type": "markdown",
   "id": "058a980d",
   "metadata": {},
   "source": [
    "## Collector Line Flow Characteristics"
   ]
  },
  {
   "cell_type": "code",
   "execution_count": null,
   "id": "a2944654",
   "metadata": {},
   "outputs": [],
   "source": [
    "test_data['oil_return_temp']"
   ]
  },
  {
   "cell_type": "code",
   "execution_count": null,
   "id": "4f3dae61",
   "metadata": {},
   "outputs": [],
   "source": [
    "test_data['loop_dp']"
   ]
  },
  {
   "cell_type": "code",
   "execution_count": null,
   "id": "9b4b69e4",
   "metadata": {},
   "outputs": [],
   "source": [
    "valve_positions = np.linspace(0.2, 1.0, 41)\n",
    "\n",
    "fig, ax = plt.subplots(figsize=(7, 2.5))\n",
    "\n",
    "for delta_p in [1.5, 2.0, 2.5]:\n",
    "    flow_rates = calculate_collector_flow_rate(\n",
    "        valve_positions, delta_p, sqrt=np.sqrt\n",
    "    )\n",
    "\n",
    "    ax.plot(valve_positions, flow_rates, label=delta_p)\n",
    "    ax.set_xlabel('Valve position (0-1)')\n",
    "    ax.set_ylabel('Flow rate ((kg/s))')\n",
    "    ax.grid(True)\n",
    "    ax.legend(title=\"Pressure drop (kPa)\")\n",
    "    ax.set_title(\"Collector Loop Flow Curves\")\n",
    "\n",
    "plt.tight_layout()\n",
    "plt.show()"
   ]
  },
  {
   "cell_type": "markdown",
   "id": "7ef68026",
   "metadata": {},
   "source": [
    "## Oil Exit Temperature Calculations"
   ]
  },
  {
   "cell_type": "code",
   "execution_count": null,
   "id": "0ab2f054",
   "metadata": {},
   "outputs": [],
   "source": [
    "test_data['oil_exit_temps'][0], test_data['collector_flow_rates'][0], test_data[\"loop_thermal_efficiencies\"][0]"
   ]
  },
  {
   "cell_type": "code",
   "execution_count": null,
   "id": "caea3802",
   "metadata": {},
   "outputs": [],
   "source": [
    "# X-axis: flow rate per line (kg/s)\n",
    "flow_rates = np.linspace(80, 120, 41) / 15  # per line\n",
    "\n",
    "# Plot curves\n",
    "oil_return_temps = [240, 250, 260, 270, 290]  # degC\n",
    "ambient_temps = [15, 20, 25, 20, 35]  # degC\n",
    "solar_rates = [500, 600, 700, 800, 900]  # W/m2\n",
    "loop_thermal_efficiency = 0.9\n",
    "\n",
    "fig, axes = plt.subplots(3, 1, sharex=True, figsize=(7, 5.5))\n",
    "\n",
    "ax = axes[0]\n",
    "for solar_rate in solar_rates:\n",
    "    oil_exit_temps = calculate_collector_oil_exit_temp(\n",
    "        flow_rates,\n",
    "        oil_return_temps[2],\n",
    "        ambient_temps[2],\n",
    "        solar_rate,\n",
    "        loop_thermal_efficiency,\n",
    "        exp=np.exp,\n",
    "        pi=np.pi\n",
    "    )\n",
    "    ax.plot(flow_rates, oil_exit_temps, label=solar_rate)\n",
    "ax.set_ylabel('°C')\n",
    "ax.grid(True)\n",
    "ax.legend(title=\"$I_C$ ($W/m^2$)\")\n",
    "ax.set_title(\"Collector Loop Exit Temperature vs. Solar Rate\")\n",
    "ax.set_xlabel('Flow rate (kg/s)')\n",
    "\n",
    "ax = axes[1]\n",
    "for ambient_temp in ambient_temps:\n",
    "    oil_exit_temps = calculate_collector_oil_exit_temp(\n",
    "        flow_rates,\n",
    "        oil_return_temps[2],\n",
    "        ambient_temp,\n",
    "        solar_rates[2],\n",
    "        loop_thermal_efficiency,\n",
    "        exp=np.exp,\n",
    "        pi=np.pi\n",
    "    )\n",
    "    ax.plot(flow_rates, oil_exit_temps, label=ambient_temp)\n",
    "ax.set_ylabel('°C')\n",
    "ax.grid(True)\n",
    "ax.legend(title=\"$T_{amb}$ (deg C)\")\n",
    "ax.set_title(\"Collector Loop Exit Temperature vs. Ambient Temperature\")\n",
    "ax.set_xlabel('Flow rate (kg/s)')\n",
    "\n",
    "\n",
    "ax = axes[2]\n",
    "for oil_return_temp in oil_return_temps:\n",
    "    oil_exit_temps = calculate_collector_oil_exit_temp(\n",
    "        flow_rates,\n",
    "        oil_return_temp,\n",
    "        ambient_temps[2],\n",
    "        solar_rates[2],\n",
    "        loop_thermal_efficiency,\n",
    "        exp=np.exp,\n",
    "        pi=np.pi\n",
    "    )\n",
    "    ax.plot(flow_rates, oil_exit_temps, label=oil_return_temp)\n",
    "ax.set_ylabel('°C')\n",
    "ax.grid(True)\n",
    "ax.legend(title=\"$T_{return}$ (deg C)\")\n",
    "ax.set_title(\"Collector Loop Exit Temperature vs. Oil Return Temperature\")\n",
    "ax.set_xlabel('Flow rate (kg/s)')\n",
    "\n",
    "plt.tight_layout()\n",
    "plt.show()"
   ]
  },
  {
   "cell_type": "markdown",
   "id": "01592118",
   "metadata": {},
   "source": [
    "## Solar Collector Lines and Pumps RTO Model"
   ]
  },
  {
   "cell_type": "code",
   "execution_count": null,
   "id": "394d5c9f",
   "metadata": {},
   "outputs": [],
   "source": [
    "# Maximizes net potential energy generation\n",
    "\n",
    "ambient_temp = 20  # degC\n",
    "solar_rates = np.linspace(500, 900, 41)  # W/m2\n",
    "oil_return_temp = 270  # degC\n",
    "\n",
    "# Silence solver output\n",
    "solver_opts = {'ipopt.tol': 1e-9, 'print_time': False, 'ipopt': {'print_level': 0}}\n",
    "\n",
    "valve_positions = []\n",
    "oil_flow_rates = []\n",
    "oil_exit_temps = []\n",
    "index_values = []\n",
    "\n",
    "for solar_rate in tqdm(solar_rates):\n",
    "\n",
    "    sol, variables = solar_plant_rto_solve(\n",
    "        solar_rate,\n",
    "        ambient_temp,\n",
    "        oil_return_temp,\n",
    "        m_pumps,\n",
    "        n_lines,\n",
    "        solver_opts=solver_opts\n",
    "    )\n",
    "\n",
    "    valve_positions.append(variables['valve_positions'])\n",
    "    oil_flow_rates.append(variables['collector_flow_rates'])\n",
    "    oil_exit_temps.append(variables['oil_exit_temps'])\n",
    "    index_values.append(solar_rate)\n",
    "\n",
    "valve_positions = pd.DataFrame.from_records(\n",
    "    valve_positions,\n",
    "    index=pd.Index(index_values, name='Solar Rate (W/m2)'),\n",
    "    columns=pd.Index(range(n_lines), name='Collector Line')\n",
    ")\n",
    "oil_flow_rates = pd.DataFrame.from_records(\n",
    "    oil_flow_rates,\n",
    "    index=pd.Index(index_values, name='Solar Rate (W/m2)'),\n",
    "    columns=pd.Index(range(n_lines), name='Collector Line')\n",
    ")\n",
    "oil_exit_temps = pd.DataFrame.from_records(\n",
    "    oil_exit_temps,\n",
    "    index=pd.Index(index_values, name='Solar Rate (W/m2)'),\n",
    "    columns=pd.Index(range(n_lines), name='Collector Line')\n",
    ")\n"
   ]
  },
  {
   "cell_type": "code",
   "execution_count": null,
   "id": "099e945b",
   "metadata": {},
   "outputs": [],
   "source": [
    "fig, axes = plt.subplots(3, 1, sharex=True, figsize=(7, 5.5))\n",
    "\n",
    "ax = axes[0]\n",
    "for line in oil_exit_temps[:8]:  # Plot first 8 lines only\n",
    "    oil_exit_temps[line].plot(\n",
    "        ax=ax,\n",
    "        style='.-',\n",
    "        title=f'Collector Line Exit Temperatures',\n",
    "        xlabel='Solar Rate (W/m2)',\n",
    "        ylabel='Oil Temperature (°C)',\n",
    "    )\n",
    "ax.set_ylim([390, 401])\n",
    "ax.grid(True)\n",
    "\n",
    "ax = axes[1]\n",
    "for line in valve_positions[:8]:  # Plot first 8 lines only\n",
    "    valve_positions[line].plot(\n",
    "        ax=ax,\n",
    "        style='.-',\n",
    "        title=f'Collector FCV Positions',\n",
    "        xlabel='Solar Rate (W/m2)',\n",
    "        ylabel='Valve Position (0-1)',\n",
    "    )\n",
    "ax.set_ylim([None, 1.01])\n",
    "ax.grid(True)\n",
    "\n",
    "ax = axes[2]\n",
    "for line in oil_flow_rates[:8]:  # Plot first 8 lines only\n",
    "    oil_flow_rates[line].plot(\n",
    "        ax=ax,\n",
    "        style='.-',\n",
    "        title=f'Collector Oil Flow Rates',\n",
    "        xlabel='Solar Rate (W/m2)',\n",
    "        ylabel='Flow Rate (kg/s)',\n",
    "    )\n",
    "ax.grid(True)\n",
    "\n",
    "plt.tight_layout()\n",
    "plt.show()"
   ]
  },
  {
   "cell_type": "code",
   "execution_count": null,
   "id": "38a7b1f6",
   "metadata": {},
   "outputs": [],
   "source": []
  },
  {
   "cell_type": "code",
   "execution_count": null,
   "id": "7ff3b825",
   "metadata": {},
   "outputs": [],
   "source": []
  },
  {
   "cell_type": "code",
   "execution_count": null,
   "id": "46de80cd",
   "metadata": {},
   "outputs": [],
   "source": []
  }
 ],
 "metadata": {
  "kernelspec": {
   "display_name": ".venv",
   "language": "python",
   "name": "python3"
  },
  "language_info": {
   "codemirror_mode": {
    "name": "ipython",
    "version": 3
   },
   "file_extension": ".py",
   "mimetype": "text/x-python",
   "name": "python",
   "nbconvert_exporter": "python",
   "pygments_lexer": "ipython3",
   "version": "3.13.2"
  }
 },
 "nbformat": 4,
 "nbformat_minor": 5
}
