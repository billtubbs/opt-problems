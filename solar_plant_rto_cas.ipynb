{
 "cells": [
  {
   "cell_type": "markdown",
   "id": "23c1734b",
   "metadata": {},
   "source": [
    "# Develop a CasADi Model of The Steady-State Solar Plant RTO Problem\n",
    "\n",
    "Replicates the calculations in the following Excel spreadsheet and uses CasADi to solve the optimization problem.\n",
    "\n",
    "- `Solar Plant Optimization of N-Pumps I-O 2025-08-29.xlsm`"
   ]
  },
  {
   "cell_type": "code",
   "execution_count": null,
   "id": "fafbf0ce",
   "metadata": {},
   "outputs": [],
   "source": [
    "import casadi as cas\n",
    "import numpy as np\n",
    "import pandas as pd\n",
    "import matplotlib.pyplot as plt\n",
    "from tqdm import tqdm\n",
    "\n",
    "# Import functions from the solar_plant_rto module\n",
    "from problems.solar_plant_rto.solar_plant_rto import (\n",
    "    actual_pump_speed_from_scaled,\n",
    "    calculate_pump_and_drive_efficiency,\n",
    "    calculate_pump_fluid_power,\n",
    "    calculate_collector_flow_rate,\n",
    "    calculate_total_flowrate,\n",
    "    calculate_boiler_dp,\n",
    "    calculate_pump_dp,\n",
    "    calculate_pressure_balance,\n",
    "    make_pressure_balance_function,\n",
    "    make_calculate_pump_and_drive_power_function,\n",
    "    calculate_collector_oil_exit_temp,\n",
    "    calculate_rms_oil_exit_temps,\n",
    "    make_collector_exit_temps_and_pump_power_function,\n",
    "    calculate_net_power,\n",
    "    solar_plant_rto_solve,\n",
    "    PUMP_SPEED_MIN,\n",
    "    PUMP_SPEED_MAX,\n",
    "    LOOP_THERMAL_EFFICIENCIES,\n",
    "    OIL_EXIT_TEMPS_SP,\n",
    ")\n",
    "\n",
    "from tests.test_solar_plant_rto import test_data"
   ]
  },
  {
   "cell_type": "code",
   "execution_count": null,
   "id": "226285fd",
   "metadata": {},
   "outputs": [],
   "source": [
    "# This data is from the Excel spreadsheet\n",
    "test_data"
   ]
  },
  {
   "cell_type": "markdown",
   "id": "841c72fd",
   "metadata": {},
   "source": [
    "## Pump and Flow Calcualtions"
   ]
  },
  {
   "cell_type": "code",
   "execution_count": null,
   "id": "dd77b46e",
   "metadata": {},
   "outputs": [],
   "source": [
    "# Test the imported function\n",
    "assert actual_pump_speed_from_scaled(0.2) == PUMP_SPEED_MIN\n",
    "assert actual_pump_speed_from_scaled(1.0) == PUMP_SPEED_MAX"
   ]
  },
  {
   "cell_type": "code",
   "execution_count": null,
   "id": "cebc4719",
   "metadata": {},
   "outputs": [],
   "source": [
    "flow_rates = np.linspace(50, 90, 41)\n",
    "\n",
    "plt.figure(figsize=(5, 3))\n",
    "for pump_speed in [1200, 1800, 2400, 3000]:\n",
    "    pump_and_drive_efficiency = calculate_pump_and_drive_efficiency(\n",
    "        flow_rates, pump_speed\n",
    "    )\n",
    "    plt.plot(flow_rates, pump_and_drive_efficiency, label=pump_speed)\n",
    "plt.xlabel('Flow rate (kg/s?)')\n",
    "plt.ylabel('Efficiency')\n",
    "plt.grid()\n",
    "plt.legend(title=\"Speed (rpm)\")\n",
    "plt.title(\"Pump and Drive Efficiency Curves\")\n",
    "plt.tight_layout()\n",
    "plt.show()"
   ]
  },
  {
   "cell_type": "code",
   "execution_count": null,
   "id": "ad349f0a",
   "metadata": {},
   "outputs": [],
   "source": [
    "# Test calculation\n",
    "pump_dp = test_data[\"pump_dp\"]\n",
    "total_flow_rate = test_data[\"total_flow_rate\"]\n",
    "pump_fluid_power = calculate_pump_fluid_power(total_flow_rate, pump_dp)\n",
    "assert np.isclose(pump_fluid_power, test_data[\"pump_fluid_power\"])"
   ]
  },
  {
   "cell_type": "code",
   "execution_count": null,
   "id": "c22a4d6b",
   "metadata": {},
   "outputs": [],
   "source": [
    "# Test calculation\n",
    "valve_position = test_data[\"valve_positions\"][1]\n",
    "loop_dp = test_data[\"loop_dp\"]\n",
    "collector_flow_rate = calculate_collector_flow_rate(valve_position, loop_dp, sqrt=np.sqrt)\n",
    "assert np.isclose(collector_flow_rate, test_data[\"collector_flow_rates\"][1])"
   ]
  },
  {
   "cell_type": "code",
   "execution_count": null,
   "id": "df3cba68",
   "metadata": {},
   "outputs": [],
   "source": [
    "valve_positions = np.linspace(0.1, 1.0, 91)\n",
    "\n",
    "plt.figure(figsize=(5, 3))\n",
    "for loop_dp in [50, 60, 70]:\n",
    "    flow_rate = calculate_collector_flow_rate(valve_positions, loop_dp, sqrt=np.sqrt)\n",
    "    plt.plot(valve_positions, flow_rate, label=loop_dp)\n",
    "plt.xlabel('Valve position (-)')\n",
    "plt.ylabel('Flow rate (kg/s)')\n",
    "plt.grid()\n",
    "plt.legend(title=\"Loop dp (kPa)\")\n",
    "plt.title(\"Collector Flow Rate Curves\")\n",
    "plt.tight_layout()\n",
    "plt.show()"
   ]
  },
  {
   "cell_type": "code",
   "execution_count": null,
   "id": "8d171fba",
   "metadata": {},
   "outputs": [],
   "source": [
    "# Test calculation\n",
    "valve_positions = test_data[\"valve_positions\"]\n",
    "loop_dp = test_data[\"loop_dp\"]\n",
    "total_flowrate = calculate_total_flowrate(valve_positions, loop_dp, sum=np.sum, sqrt=np.sqrt)\n",
    "assert np.isclose(total_flowrate, test_data[\"total_flow_rate\"])"
   ]
  },
  {
   "cell_type": "code",
   "execution_count": null,
   "id": "b615cfd7",
   "metadata": {},
   "outputs": [],
   "source": [
    "# Test calculation\n",
    "total_flow_rate = test_data[\"total_flow_rate\"]\n",
    "boiler_dp = calculate_boiler_dp(total_flow_rate)\n",
    "assert np.isclose(boiler_dp, test_data[\"boiler_dp\"])"
   ]
  },
  {
   "cell_type": "code",
   "execution_count": null,
   "id": "9618faf6",
   "metadata": {},
   "outputs": [],
   "source": [
    "# Test calculation\n",
    "actual_pump_speed = test_data[\"actual_pump_speed\"]\n",
    "m_pumps = 2\n",
    "pump_dp = calculate_pump_dp(actual_pump_speed, total_flow_rate, m_pumps)\n",
    "assert np.isclose(pump_dp, test_data[\"pump_dp\"])"
   ]
  },
  {
   "cell_type": "code",
   "execution_count": null,
   "id": "3461cba8",
   "metadata": {},
   "outputs": [],
   "source": [
    "# Test calculation\n",
    "loop_dp = test_data[\"loop_dp\"]\n",
    "pump_dp = test_data[\"pump_dp\"]\n",
    "boiler_dp = test_data[\"boiler_dp\"]\n",
    "pressure_balance = calculate_pressure_balance(loop_dp, pump_dp, boiler_dp)\n",
    "\n",
    "assert np.isclose(pressure_balance, 0.0, atol=1e-7)"
   ]
  },
  {
   "cell_type": "code",
   "execution_count": null,
   "id": "bbfe0e8b",
   "metadata": {},
   "outputs": [],
   "source": [
    "# Test calculation\n",
    "valve_positions = test_data[\"valve_positions\"]\n",
    "loop_dp = test_data[\"loop_dp\"]\n",
    "total_flow_rate = calculate_total_flowrate(valve_positions, loop_dp, sum=np.sum, sqrt=np.sqrt)\n",
    "assert np.isclose(total_flow_rate, test_data[\"total_flow_rate\"])\n",
    "\n",
    "pump_speed_scaled = test_data[\"pump_speed_scaled\"]\n",
    "actual_pump_speed = actual_pump_speed_from_scaled(pump_speed_scaled)\n",
    "assert np.isclose(actual_pump_speed, test_data[\"actual_pump_speed\"])\n",
    "\n",
    "pump_dp = test_data[\"pump_dp\"]\n",
    "pump_fluid_power = calculate_pump_fluid_power(total_flow_rate, pump_dp)\n",
    "assert np.isclose(pump_fluid_power, test_data[\"pump_fluid_power\"])\n",
    "\n",
    "m_pumps = 2\n",
    "pump_and_drive_efficiency = calculate_pump_and_drive_efficiency(\n",
    "    total_flow_rate, actual_pump_speed\n",
    ")\n",
    "assert np.isclose(pump_and_drive_efficiency, test_data[\"pump_and_drive_efficiency\"])\n",
    "\n",
    "pump_and_drive_power = pump_fluid_power / pump_and_drive_efficiency\n",
    "assert np.isclose(pump_and_drive_power, test_data[\"pump_and_drive_power\"])"
   ]
  },
  {
   "cell_type": "code",
   "execution_count": null,
   "id": "fdccb79a",
   "metadata": {},
   "outputs": [],
   "source": [
    "n_lines = 15\n",
    "m_pumps = 2\n",
    "pressure_balance_function = make_pressure_balance_function(n_lines, m_pumps)\n",
    "pressure_balance_function"
   ]
  },
  {
   "cell_type": "code",
   "execution_count": null,
   "id": "0759e29a",
   "metadata": {},
   "outputs": [],
   "source": [
    "# Test calculation\n",
    "valve_positions = test_data[\"valve_positions\"]\n",
    "pump_speed_scaled = test_data[\"pump_speed_scaled\"]\n",
    "loop_dp = test_data[\"loop_dp\"]\n",
    "\n",
    "pressure_balance = pressure_balance_function(\n",
    "    valve_positions, pump_speed_scaled, loop_dp\n",
    ")\n",
    "assert np.isclose(pressure_balance, [[0.0]], atol=1e-5)"
   ]
  },
  {
   "cell_type": "markdown",
   "id": "3e862818",
   "metadata": {},
   "source": [
    "## Use Rootfinder to Find Pressure Balance"
   ]
  },
  {
   "cell_type": "code",
   "execution_count": null,
   "id": "20f9def2",
   "metadata": {},
   "outputs": [],
   "source": [
    "def g(x):\n",
    "    loop_dp = x\n",
    "    return pressure_balance_function(\n",
    "        cas.DM(valve_positions), cas.DM(pump_speed_scaled), loop_dp\n",
    "    )\n",
    "\n",
    "x = cas.SX.sym('x')\n",
    "rf = cas.rootfinder('rf', 'newton', {'x': x, 'g': g(x)})\n",
    "\n",
    "x_sol_rf = rf([30.0], [])\n",
    "x_sol_rf"
   ]
  },
  {
   "cell_type": "code",
   "execution_count": null,
   "id": "89d9fc14",
   "metadata": {},
   "outputs": [],
   "source": [
    "pump_and_drive_power_function = \\\n",
    "    make_calculate_pump_and_drive_power_function(n_lines, m_pumps)\n",
    "pump_and_drive_power_function"
   ]
  },
  {
   "cell_type": "code",
   "execution_count": null,
   "id": "0cb0de0c",
   "metadata": {},
   "outputs": [],
   "source": [
    "# Test calculation\n",
    "valve_positions = test_data[\"valve_positions\"]\n",
    "pump_speed_scaled = test_data[\"pump_speed_scaled\"]\n",
    "pump_and_drive_power_function(valve_positions, pump_speed_scaled)\n",
    "assert np.isclose(pump_and_drive_power, test_data[\"pump_and_drive_power\"])"
   ]
  },
  {
   "cell_type": "code",
   "execution_count": null,
   "id": "54bd174b",
   "metadata": {},
   "outputs": [],
   "source": [
    "%timeit pump_and_drive_power_function(valve_positions, pump_speed_scaled)"
   ]
  },
  {
   "cell_type": "markdown",
   "id": "7ef68026",
   "metadata": {},
   "source": [
    "## Oil Exit Temperature Calculations"
   ]
  },
  {
   "cell_type": "code",
   "execution_count": null,
   "id": "a4330d8d",
   "metadata": {},
   "outputs": [],
   "source": [
    "# LOOP_THERMAL_EFFICIENCIES now imported from module"
   ]
  },
  {
   "cell_type": "code",
   "execution_count": null,
   "id": "caea3802",
   "metadata": {},
   "outputs": [],
   "source": [
    "# Test calculation\n",
    "flow_rate = 8.968468201\n",
    "oil_return_temp = 273\n",
    "ambient_temp = 20\n",
    "solar_rate = 900\n",
    "loop_thermal_efficiency = 0.9\n",
    "oil_exit_temp = calculate_collector_oil_exit_temp(\n",
    "    flow_rate,\n",
    "    oil_return_temp,\n",
    "    ambient_temp,\n",
    "    solar_rate,\n",
    "    loop_thermal_efficiency,\n",
    "    exp=np.exp,\n",
    "    pi=np.pi\n",
    ")\n",
    "assert np.isclose(oil_exit_temp, 397.4882567363479)\n",
    "\n",
    "# Test calculation - vectorized\n",
    "collector_flow_rates = cas.DM(test_data[\"collector_flow_rates\"])\n",
    "oil_return_temp = test_data[\"oil_return_temp\"]\n",
    "ambient_temp = test_data[\"ambient_temp\"]\n",
    "solar_rate = test_data[\"solar_rate\"]\n",
    "loop_thermal_efficiencies = cas.DM(test_data[\"loop_thermal_efficiencies\"])\n",
    "oil_exit_temps = calculate_collector_oil_exit_temp(\n",
    "    collector_flow_rates,\n",
    "    oil_return_temp,\n",
    "    ambient_temp,\n",
    "    solar_rate,\n",
    "    loop_thermal_efficiencies\n",
    ")\n",
    "assert np.allclose(\n",
    "    oil_exit_temps,\n",
    "    test_data[\"oil_exit_temps\"].reshape(-1, 1)\n",
    ")"
   ]
  },
  {
   "cell_type": "code",
   "execution_count": null,
   "id": "681c2a9e",
   "metadata": {},
   "outputs": [],
   "source": [
    "# OIL_EXIT_TEMPS_SP now imported from module\n",
    "rms_dev = calculate_rms_oil_exit_temps(oil_exit_temps, cas.DM(OIL_EXIT_TEMPS_SP))\n",
    "assert np.isclose(rms_dev, test_data[\"rms_dev\"], atol=0.00001)"
   ]
  },
  {
   "cell_type": "markdown",
   "id": "01592118",
   "metadata": {},
   "source": [
    "## Combine into Collector and Pumps System Model"
   ]
  },
  {
   "cell_type": "code",
   "execution_count": null,
   "id": "168813bd",
   "metadata": {},
   "outputs": [],
   "source": [
    "calculate_exit_temps_and_pump_power = \\\n",
    "    make_collector_exit_temps_and_pump_power_function(n_lines, m_pumps)\n",
    "\n",
    "calculate_exit_temps_and_pump_power"
   ]
  },
  {
   "cell_type": "code",
   "execution_count": null,
   "id": "c5b3b8b3",
   "metadata": {},
   "outputs": [],
   "source": [
    "# Test calculation\n",
    "valve_positions = test_data[\"valve_positions\"]\n",
    "pump_speed_scaled = test_data[\"pump_speed_scaled\"]\n",
    "oil_return_temp = test_data[\"oil_return_temp\"]\n",
    "ambient_temp = test_data[\"ambient_temp\"]\n",
    "solar_rate = test_data[\"solar_rate\"]\n",
    "\n",
    "collector_flow_rates, pump_and_drive_power, oil_exit_temps = \\\n",
    "    calculate_exit_temps_and_pump_power(\n",
    "        valve_positions, pump_speed_scaled, oil_return_temp, ambient_temp, solar_rate\n",
    "    )\n",
    "assert np.allclose(\n",
    "    collector_flow_rates,\n",
    "    test_data[\"collector_flow_rates\"].reshape(-1, 1)\n",
    ")\n",
    "assert np.isclose(pump_and_drive_power, test_data[\"pump_and_drive_power\"])\n",
    "assert np.allclose(\n",
    "    oil_exit_temps,\n",
    "    test_data[\"oil_exit_temps\"].reshape(-1, 1)\n",
    ")"
   ]
  },
  {
   "cell_type": "code",
   "execution_count": null,
   "id": "c13e5924",
   "metadata": {},
   "outputs": [],
   "source": [
    "%timeit calculate_exit_temps_and_pump_power(valve_positions, pump_speed_scaled, oil_return_temp, ambient_temp, solar_rate)"
   ]
  },
  {
   "cell_type": "markdown",
   "id": "e64a9b2e",
   "metadata": {},
   "source": [
    "## Solve by Maximising Potential Work Output"
   ]
  },
  {
   "cell_type": "code",
   "execution_count": null,
   "id": "ad5341a7",
   "metadata": {},
   "outputs": [],
   "source": [
    "# solar_plant_rto_solve now imported from module"
   ]
  },
  {
   "cell_type": "code",
   "execution_count": null,
   "id": "6f2ce236",
   "metadata": {},
   "outputs": [],
   "source": [
    "%%time\n",
    "\n",
    "solar_rate = 900\n",
    "ambient_temp = 20\n",
    "oil_return_temp = 273\n",
    "m_pumps = 3\n",
    "n_lines = 15\n",
    "\n",
    "sol, variables = solar_plant_rto_solve(\n",
    "    solar_rate,\n",
    "    ambient_temp,\n",
    "    oil_return_temp,\n",
    "    m_pumps,\n",
    "    n_lines\n",
    ")"
   ]
  },
  {
   "cell_type": "code",
   "execution_count": null,
   "id": "22d82631",
   "metadata": {},
   "outputs": [],
   "source": [
    "inputs = {\n",
    "    \"solar_rate\": solar_rate,\n",
    "    \"ambient_temp\": ambient_temp,\n",
    "    \"oil_return_temp\": oil_return_temp,\n",
    "    \"m_pumps\": m_pumps,\n",
    "    \"n_lines\": n_lines\n",
    "}\n",
    "output_vars = {name: variables[name] for name in ['pump_speed_scaled', 'pump_and_drive_power', 'potential_work']}\n",
    "\n",
    "print(pd.concat([pd.Series(inputs), pd.Series(output_vars)]).round(4))\n",
    "pd.DataFrame(\n",
    "    {name: variables[name] for name in ['valve_positions', 'oil_exit_temps', 'collector_flow_rates']},\n",
    "    index=range(1, n_lines + 1)\n",
    ").round(4)\n"
   ]
  },
  {
   "cell_type": "code",
   "execution_count": null,
   "id": "099e945b",
   "metadata": {},
   "outputs": [],
   "source": [
    "# Check sparsity of Hessian\n",
    "variables['hess_f'].sparsity().spy()"
   ]
  },
  {
   "cell_type": "markdown",
   "id": "a7d07283",
   "metadata": {},
   "source": [
    "## Test Robustness of Solver to Initial Conditions"
   ]
  },
  {
   "cell_type": "code",
   "execution_count": null,
   "id": "0479fb36",
   "metadata": {},
   "outputs": [],
   "source": [
    "# Constants\n",
    "solar_rate = 900\n",
    "ambient_temp = 20\n",
    "oil_return_temp = 273\n",
    "m_pumps = 3\n",
    "n_lines = 15\n",
    "\n",
    "selected_stats = ['iter_count', 'n_call_nlp_f', 'n_call_nlp_g', 'success']\n",
    "\n",
    "rng = np.random.default_rng(0)\n",
    "\n",
    "# Disable solver and CasADi output reporting\n",
    "solver_opts = {\n",
    "    'ipopt.print_level': 0,    # Suppress IPOPT output\n",
    "    'print_time': 0            # Suppress CasADi timing\n",
    "}\n",
    "\n",
    "results = []\n",
    "for i in tqdm(range(100)):\n",
    "\n",
    "    valve_positions_init = rng.uniform(0.1, 1.0, size=n_lines)\n",
    "    pump_speed_scaled_init = rng.uniform(0.2, 1.0)\n",
    "\n",
    "    sol, variables = solar_plant_rto_solve(\n",
    "        solar_rate,\n",
    "        ambient_temp,\n",
    "        oil_return_temp,\n",
    "        m_pumps,\n",
    "        n_lines,\n",
    "        valve_positions_init=valve_positions_init,\n",
    "        pump_speed_scaled_init=pump_speed_scaled_init,\n",
    "        solver_opts=solver_opts\n",
    "    )\n",
    "    sol_stats = sol.stats()\n",
    "    sol_stats = {name: sol_stats[name] for name in selected_stats}\n",
    "    sol_stats['f'] = sol.value(variables['f'])\n",
    "    results.append(sol_stats)\n",
    "\n",
    "results = pd.DataFrame(results)"
   ]
  },
  {
   "cell_type": "code",
   "execution_count": null,
   "id": "82d1c844",
   "metadata": {},
   "outputs": [],
   "source": [
    "assert results['success'].value_counts()[True] == len(results)\n",
    "results['iter_count'].value_counts()"
   ]
  },
  {
   "cell_type": "code",
   "execution_count": null,
   "id": "67ebe616",
   "metadata": {},
   "outputs": [],
   "source": [
    "# Number of different solutions found\n",
    "results['f'].round(6).value_counts()"
   ]
  },
  {
   "cell_type": "code",
   "execution_count": null,
   "id": "38a7b1f6",
   "metadata": {},
   "outputs": [],
   "source": []
  },
  {
   "cell_type": "code",
   "execution_count": null,
   "id": "7ff3b825",
   "metadata": {},
   "outputs": [],
   "source": []
  },
  {
   "cell_type": "code",
   "execution_count": null,
   "id": "46de80cd",
   "metadata": {},
   "outputs": [],
   "source": []
  }
 ],
 "metadata": {
  "kernelspec": {
   "display_name": ".venv",
   "language": "python",
   "name": "python3"
  },
  "language_info": {
   "codemirror_mode": {
    "name": "ipython",
    "version": 3
   },
   "file_extension": ".py",
   "mimetype": "text/x-python",
   "name": "python",
   "nbconvert_exporter": "python",
   "pygments_lexer": "ipython3",
   "version": "3.13.2"
  }
 },
 "nbformat": 4,
 "nbformat_minor": 5
}
